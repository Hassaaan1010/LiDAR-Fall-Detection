{
 "cells": [
  {
   "cell_type": "code",
   "execution_count": 1,
   "metadata": {},
   "outputs": [],
   "source": [
    "import cv2\n",
    "from ultralytics import YOLO"
   ]
  },
  {
   "cell_type": "code",
   "execution_count": 2,
   "metadata": {},
   "outputs": [],
   "source": [
    "model = YOLO(\"models/yolov8m-pose.pt\")\n",
    "# model in multi_people_splitting/"
   ]
  },
  {
   "cell_type": "code",
   "execution_count": 7,
   "metadata": {},
   "outputs": [],
   "source": [
    "def test_pose_detection(path, show=False):\n",
    "    frame = cv2.imread(path)\n",
    "\n",
    "    results = model.predict(frame)\n",
    "    keypoints = results[0].keypoints\n",
    "    if len(keypoints) > 0:\n",
    "        keypoints = keypoints[0].cpu().numpy()\n",
    "    else:\n",
    "        keypoints = None\n",
    "    frame = cv2.cvtColor(frame, cv2.COLOR_RGB2BGR)\n",
    "    if keypoints is not None:\n",
    "        xy = keypoints.data[0]\n",
    "        conf = keypoints.conf[0]\n",
    "        for i in range(len(xy)):\n",
    "            x, y, c = xy[i]\n",
    "            if c > 0:\n",
    "                cv2.circle(frame, (int(x), int(y)), 2, (0, 255, 0), -1)\n",
    "                cv2.putText(\n",
    "                    frame,\n",
    "                    f\"{i}-{int(c*100)}\",\n",
    "                    (int(x), int(y) - 10),\n",
    "                    cv2.FONT_HERSHEY_SIMPLEX,\n",
    "                    0.5,\n",
    "                    (255, 0, 0),\n",
    "                    1,\n",
    "                )\n",
    "    # Resize the frame to 720x960\n",
    "    # frame = cv2.resize(frame, (960, 720))\n",
    "    while show:\n",
    "        cv2.imshow(\"C\", frame)\n",
    "        if cv2.waitKey(10) & 0xFF == ord(\"q\"):\n",
    "            break\n",
    "    cv2.destroyAllWindows()\n",
    "    return results\n",
    "    # return image"
   ]
  },
  {
   "cell_type": "code",
   "execution_count": 6,
   "metadata": {},
   "outputs": [],
   "source": [
    "# path = \"/home/hassaan/Downloads/DPT2/311.png\"\n",
    "# path = \"/home/hassaan/Downloads/try_again_2/rgb_split_2.1/1888.png\"\n",
    "# path = \"/home/hassaan/Downloads/rgb_split/327.png\"\n",
    "path = \"output.jpg\"\n",
    "# path = \"/home/hassaan/Downloads/allFinal/111.png\" 311"
   ]
  },
  {
   "cell_type": "code",
   "execution_count": 8,
   "metadata": {},
   "outputs": [
    {
     "name": "stdout",
     "output_type": "stream",
     "text": [
      "\n",
      "0: 384x640 3 persons, 1641.9ms\n",
      "Speed: 6.4ms preprocess, 1641.9ms inference, 3.0ms postprocess per image at shape (1, 3, 384, 640)\n"
     ]
    }
   ],
   "source": [
    "results = test_pose_detection(path, show=True)\n",
    "# print(results[0].keypoints)"
   ]
  },
  {
   "cell_type": "code",
   "execution_count": 10,
   "metadata": {},
   "outputs": [
    {
     "data": {
      "text/plain": [
       "ultralytics.engine.results.Keypoints object with attributes:\n",
       "\n",
       "conf: tensor([[0.9459, 0.9559, 0.5407, 0.8962, 0.0446, 0.9935, 0.7292, 0.9874, 0.3632, 0.9737, 0.4234, 0.9958, 0.9744, 0.9719, 0.8554, 0.5109, 0.2757],\n",
       "        [0.2801, 0.2660, 0.0959, 0.2507, 0.0672, 0.5594, 0.1098, 0.5003, 0.0472, 0.4135, 0.0760, 0.5383, 0.2766, 0.4729, 0.2384, 0.0943, 0.0517]])\n",
       "data: tensor([[[3.6622e+01, 1.2283e+02, 9.4595e-01],\n",
       "         [4.7361e+01, 9.7374e+01, 9.5591e-01],\n",
       "         [2.5067e+01, 1.1265e+02, 5.4072e-01],\n",
       "         [9.9025e+01, 9.0862e+01, 8.9622e-01],\n",
       "         [0.0000e+00, 0.0000e+00, 4.4550e-02],\n",
       "         [1.9878e+02, 1.8537e+02, 9.9350e-01],\n",
       "         [4.7548e+01, 2.2885e+02, 7.2917e-01],\n",
       "         [2.9794e+02, 3.1327e+02, 9.8738e-01],\n",
       "         [0.0000e+00, 0.0000e+00, 3.6318e-01],\n",
       "         [2.5541e+02, 4.6809e+02, 9.7372e-01],\n",
       "         [0.0000e+00, 0.0000e+00, 4.2344e-01],\n",
       "         [1.6553e+02, 5.2161e+02, 9.9585e-01],\n",
       "         [6.0462e+01, 5.2918e+02, 9.7441e-01],\n",
       "         [1.5782e+02, 7.5956e+02, 9.7192e-01],\n",
       "         [5.7297e+01, 7.6495e+02, 8.5537e-01],\n",
       "         [1.8777e+02, 9.5160e+02, 5.1087e-01],\n",
       "         [0.0000e+00, 0.0000e+00, 2.7574e-01]],\n",
       "\n",
       "        [[0.0000e+00, 0.0000e+00, 2.8011e-01],\n",
       "         [0.0000e+00, 0.0000e+00, 2.6597e-01],\n",
       "         [0.0000e+00, 0.0000e+00, 9.5935e-02],\n",
       "         [0.0000e+00, 0.0000e+00, 2.5068e-01],\n",
       "         [0.0000e+00, 0.0000e+00, 6.7152e-02],\n",
       "         [3.4531e+01, 2.1156e+02, 5.5943e-01],\n",
       "         [0.0000e+00, 0.0000e+00, 1.0980e-01],\n",
       "         [3.8492e+01, 3.9777e+02, 5.0034e-01],\n",
       "         [0.0000e+00, 0.0000e+00, 4.7246e-02],\n",
       "         [0.0000e+00, 0.0000e+00, 4.1354e-01],\n",
       "         [0.0000e+00, 0.0000e+00, 7.6047e-02],\n",
       "         [2.8210e+01, 5.4709e+02, 5.3830e-01],\n",
       "         [0.0000e+00, 0.0000e+00, 2.7661e-01],\n",
       "         [0.0000e+00, 0.0000e+00, 4.7295e-01],\n",
       "         [0.0000e+00, 0.0000e+00, 2.3839e-01],\n",
       "         [0.0000e+00, 0.0000e+00, 9.4342e-02],\n",
       "         [0.0000e+00, 0.0000e+00, 5.1692e-02]]])\n",
       "has_visible: True\n",
       "orig_shape: (974, 334)\n",
       "shape: torch.Size([2, 17, 3])\n",
       "xy: tensor([[[ 36.6222, 122.8294],\n",
       "         [ 47.3606,  97.3735],\n",
       "         [ 25.0668, 112.6526],\n",
       "         [ 99.0253,  90.8624],\n",
       "         [  0.0000,   0.0000],\n",
       "         [198.7815, 185.3714],\n",
       "         [ 47.5475, 228.8465],\n",
       "         [297.9384, 313.2740],\n",
       "         [  0.0000,   0.0000],\n",
       "         [255.4100, 468.0890],\n",
       "         [  0.0000,   0.0000],\n",
       "         [165.5342, 521.6142],\n",
       "         [ 60.4623, 529.1810],\n",
       "         [157.8210, 759.5604],\n",
       "         [ 57.2972, 764.9503],\n",
       "         [187.7718, 951.6040],\n",
       "         [  0.0000,   0.0000]],\n",
       "\n",
       "        [[  0.0000,   0.0000],\n",
       "         [  0.0000,   0.0000],\n",
       "         [  0.0000,   0.0000],\n",
       "         [  0.0000,   0.0000],\n",
       "         [  0.0000,   0.0000],\n",
       "         [ 34.5309, 211.5618],\n",
       "         [  0.0000,   0.0000],\n",
       "         [ 38.4920, 397.7676],\n",
       "         [  0.0000,   0.0000],\n",
       "         [  0.0000,   0.0000],\n",
       "         [  0.0000,   0.0000],\n",
       "         [ 28.2100, 547.0944],\n",
       "         [  0.0000,   0.0000],\n",
       "         [  0.0000,   0.0000],\n",
       "         [  0.0000,   0.0000],\n",
       "         [  0.0000,   0.0000],\n",
       "         [  0.0000,   0.0000]]])\n",
       "xyn: tensor([[[0.1096, 0.1261],\n",
       "         [0.1418, 0.1000],\n",
       "         [0.0751, 0.1157],\n",
       "         [0.2965, 0.0933],\n",
       "         [0.0000, 0.0000],\n",
       "         [0.5952, 0.1903],\n",
       "         [0.1424, 0.2350],\n",
       "         [0.8920, 0.3216],\n",
       "         [0.0000, 0.0000],\n",
       "         [0.7647, 0.4806],\n",
       "         [0.0000, 0.0000],\n",
       "         [0.4956, 0.5355],\n",
       "         [0.1810, 0.5433],\n",
       "         [0.4725, 0.7798],\n",
       "         [0.1715, 0.7854],\n",
       "         [0.5622, 0.9770],\n",
       "         [0.0000, 0.0000]],\n",
       "\n",
       "        [[0.0000, 0.0000],\n",
       "         [0.0000, 0.0000],\n",
       "         [0.0000, 0.0000],\n",
       "         [0.0000, 0.0000],\n",
       "         [0.0000, 0.0000],\n",
       "         [0.1034, 0.2172],\n",
       "         [0.0000, 0.0000],\n",
       "         [0.1152, 0.4084],\n",
       "         [0.0000, 0.0000],\n",
       "         [0.0000, 0.0000],\n",
       "         [0.0000, 0.0000],\n",
       "         [0.0845, 0.5617],\n",
       "         [0.0000, 0.0000],\n",
       "         [0.0000, 0.0000],\n",
       "         [0.0000, 0.0000],\n",
       "         [0.0000, 0.0000],\n",
       "         [0.0000, 0.0000]]])"
      ]
     },
     "execution_count": 10,
     "metadata": {},
     "output_type": "execute_result"
    }
   ],
   "source": [
    "results[0].keypoints"
   ]
  },
  {
   "cell_type": "code",
   "execution_count": 37,
   "metadata": {},
   "outputs": [],
   "source": [
    "cv2.destroyAllWindows()"
   ]
  },
  {
   "cell_type": "code",
   "execution_count": null,
   "metadata": {},
   "outputs": [],
   "source": []
  }
 ],
 "metadata": {
  "kernelspec": {
   "display_name": "deploymentEnv",
   "language": "python",
   "name": "python3"
  },
  "language_info": {
   "codemirror_mode": {
    "name": "ipython",
    "version": 3
   },
   "file_extension": ".py",
   "mimetype": "text/x-python",
   "name": "python",
   "nbconvert_exporter": "python",
   "pygments_lexer": "ipython3",
   "version": "3.10.12"
  }
 },
 "nbformat": 4,
 "nbformat_minor": 2
}
